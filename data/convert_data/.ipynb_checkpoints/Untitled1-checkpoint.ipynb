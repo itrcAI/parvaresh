{
 "cells": [
  {
   "cell_type": "code",
   "execution_count": 77,
   "id": "2c470364-0f6f-43d9-be87-d4a265553039",
   "metadata": {},
   "outputs": [
    {
     "data": {
      "text/plain": [
       "'\\ntool : \\n  --> get_date_and_spectrum\\n  --> get_all_spectrum\\n  --> get_all_day\\n  --> extract_date_and_spectrum\\n  --> save_date_and_spectrum\\n  --> generate_plot\\n  --> fix_Meta\\n      --> fix_label\\n      --> fix_date\\n      --> fix_geomfeat\\n'"
      ]
     },
     "execution_count": 77,
     "metadata": {},
     "output_type": "execute_result"
    }
   ],
   "source": [
    "\"\"\"\n",
    "tool : \n",
    "  --> find_date_and_spectrum\n",
    "  --> get_all_spectrum\n",
    "  --> get_all_day\n",
    "  --> extract_date_and_spectrum\n",
    "  --> save_date_and_spectrum\n",
    "  --> generate_plot\n",
    "  --> fix_Meta\n",
    "      --> fix_label\n",
    "      --> fix_date\n",
    "      --> fix_geomfeat\n",
    "\"\"\""
   ]
  },
  {
   "cell_type": "code",
   "execution_count": 78,
   "id": "29a78139-50da-4ae3-a2fc-c28c4441076a",
   "metadata": {},
   "outputs": [],
   "source": [
    "import numpy as np\n",
    "import pandas as pd\n",
    "class convert_data:\n",
    "    def __init__(self,\n",
    "                 df : pd.DataFrame, \n",
    "                 class_column : str,\n",
    "                 start_date : str,\n",
    "                 geomfeat_columns : tuple) -> None:\n",
    "        \n",
    "        self.df = df\n",
    "        self.class_column = class_column\n",
    "        self.start_date = start_date\n",
    "        self.geomfeat_column = geomfeat_columns\n",
    "        \n",
    "        self.date_and_spectrum = extract_date_and_spectrum(df)\n",
    "        self.all_spectrum = get_all_spectrum(self.date_and_spectrum)\n",
    "        self.all_day = get_all_day(self.date_and_spectrum)\n",
    "        \n",
    "        \n",
    "    def fit(self):\n",
    "        for index in range(self.df.shape[0]):\n",
    "            vector = list()\n",
    "            for day in self.all_day:\n",
    "                spectrum_vector = self._create_vector_spectrum()\n",
    "                vector_day = self._make_vector_day(index, day, spectrum_vector)\n",
    "                vector.append(vector_day)\n",
    "                print(f\"{index} --> {day}\")\n",
    "            vector = np.array(vector)\n",
    "            return vector\n",
    "                    \n",
    "    def _make_vector_day(self, \n",
    "                        index : int,\n",
    "                        day : int,\n",
    "                        spectrum_vector : dict):\n",
    "        for spectrum in spectrum_vector:\n",
    "            if spectrum in self.date_and_spectrum[day]:\n",
    "                column = f\"{day}_{spectrum}\"\n",
    "                spectrum_vector[spectrum] = self.df.iloc[index][column]\n",
    "\n",
    "        return np.array(\n",
    "                        list(spectrum_vector.values())\n",
    "                           )\n",
    "                \n",
    "            \n",
    "        \n",
    "    def _create_vector_spectrum(self):\n",
    "        return {spectrum: np.nan for spectrum in self.all_spectrum}\n"
   ]
  },
  {
   "cell_type": "code",
   "execution_count": 79,
   "id": "a7209572-ee3b-454e-b204-e22e648ffb26",
   "metadata": {},
   "outputs": [],
   "source": [
    "def extract_date_and_spectrum(df : pd.DataFrame) -> dict:\n",
    "    \n",
    "    info = list(df.columns)\n",
    "    stopwords =  [\n",
    "        \"CLASS\",\n",
    "        \"Name\",\n",
    "        \"DESCRIPTION\", \n",
    "        \"Id\",\n",
    "        \"RAND\", \n",
    "        \"gridcode\", \n",
    "        \"X\", \n",
    "        \"Y\"\n",
    "    ]\n",
    "    info = [_info for _info in info if _info not in stopwords]\n",
    "    date_and_spectrum = dict()\n",
    "    info = list(map(find_date_and_spectrum, info))\n",
    "        \n",
    "    for _info in info:\n",
    "        day, spectrum = int(_info[0]) , _info[1] \n",
    "        if day in date_and_spectrum:\n",
    "            date_and_spectrum[day].add(spectrum)\n",
    "        elif day not in date_and_spectrum:\n",
    "            date_and_spectrum[day] = set()\n",
    "            date_and_spectrum[day].add(spectrum)  \n",
    "                \n",
    "    date_and_spectrum = dict(sorted(date_and_spectrum.items(), key=lambda item : item[0]))\n",
    "    return date_and_spectrum"
   ]
  },
  {
   "cell_type": "code",
   "execution_count": 80,
   "id": "b5b221cf-96f6-48d5-8b60-cd5889012fcf",
   "metadata": {},
   "outputs": [],
   "source": [
    "def find_date_and_spectrum(text : str) -> list:\n",
    "    index = None\n",
    "    for index_temp, char in enumerate(text):\n",
    "        if char == \"_\":\n",
    "            index = index_temp\n",
    "            break\n",
    "            \n",
    "    return [\n",
    "        text[ : index],\n",
    "        text[index + 1 : ]\n",
    "    ]                           "
   ]
  },
  {
   "cell_type": "code",
   "execution_count": 81,
   "id": "8bbb38dc-0e65-461d-bba5-dca156a4f22a",
   "metadata": {},
   "outputs": [],
   "source": [
    "def get_all_spectrum(date_and_spectrum : dict) -> list:\n",
    "    \n",
    "    all_spectrum  = list()\n",
    "    for _, spectrum in date_and_spectrum.items():\n",
    "        all_spectrum.extend(list(spectrum))\n",
    "    return list(set(all_spectrum))"
   ]
  },
  {
   "cell_type": "code",
   "execution_count": 82,
   "id": "1d19dfee-9ef2-4f31-b831-f12247285e5d",
   "metadata": {},
   "outputs": [],
   "source": [
    "def get_all_day(date_and_spectrum : dict) -> list:\n",
    "    \n",
    "    all_day  = list()\n",
    "    for day, _ in date_and_spectrum.items():\n",
    "        all_day.append(day)\n",
    "    return all_day"
   ]
  },
  {
   "cell_type": "code",
   "execution_count": 83,
   "id": "b3cc4aa3-55f0-4271-810b-498466f63c73",
   "metadata": {},
   "outputs": [],
   "source": [
    "def save_date_and_spectrum(date_and_spectrum : dict,\n",
    "                           path_destination : str = \"None\") -> None:\n",
    "    if path_destination == \"None\":\n",
    "        file = open(\"info.txt\", \"w\")\n",
    "\n",
    "    else :\n",
    "        path = path_destination + \"/info.txt\"\n",
    "        file = open(path, \"w\")\n",
    "        \n",
    "    for day, spectrum in date_and_spectrum.items():\n",
    "        spectrums = \"\"\n",
    "        for temp  in spectrum:\n",
    "            spectrums += temp + \"-\" \n",
    "        string = f\"day : {day} - spectrums : {spectrums}\"\n",
    "        file.write(string + \"\\n\")\n",
    "        \n",
    "    \n",
    "    all_spectrum = get_all_spectrum(date_and_spectrum)\n",
    "    string = f\"number of unique spectrums are :‌ {len(all_spectrum)}\"\n",
    "    file.write(string)\n",
    "    \n",
    "    file.close()"
   ]
  },
  {
   "cell_type": "code",
   "execution_count": 84,
   "id": "3e82e32b-ba09-48c9-9a7e-f26c61c0f07b",
   "metadata": {},
   "outputs": [],
   "source": [
    "def generate_plot(date_and_spectrum : dict) -> None:\n",
    "    \n",
    "    all_spectrum = get_all_spectrum(date_and_spectrum)\n",
    "    \n",
    "    result = {}\n",
    "    for day , spectrum in date_and_spectrum.items():\n",
    "        result[day] = len(all_spectrum) - len(spectrum)\n",
    "            \n",
    "\n",
    "    plt.figure(figsize = (30 , 10))\n",
    "    plots = sns.barplot(x = list(result.keys())[-20 : ], y = list(result.values())[-20 : ], color='black')\n",
    "    plots.set_xticklabels(plots.get_xticklabels(),rotation = 90)\n",
    "    for bar in plots.patches:\n",
    "        plots.annotate(format(bar.get_height(), '.0f'),\n",
    "                        (bar.get_x() + bar.get_width() / 2,\n",
    "                            bar.get_height()), ha='center', va='center',\n",
    "                        size=15, xytext=(0, 8),\n",
    "                        textcoords='offset points')\n",
    "    \n",
    "\n",
    "        \n",
    "    if path_destination != \"None\":\n",
    "        path_destination += \"/plot.png\"\n",
    "    else:\n",
    "        plt.savefig(\"plot.png\")\n",
    "        \n",
    "    print(f\"saved plot for date and spectrums on your directory : {path_destination}\")"
   ]
  },
  {
   "cell_type": "code",
   "execution_count": 95,
   "id": "c7ccee2f-0a2c-4c05-a7cd-cc9145314f6c",
   "metadata": {
    "scrolled": true
   },
   "outputs": [],
   "source": [
    "import pandas as pd\n",
    "\n",
    "def fix_label(df: pd.DataFrame, class_column: str):\n",
    "    labels = dict()\n",
    "    for index in range(df.shape[0]):\n",
    "        labels.update({str(index): df.iloc[index][class_column]})\n",
    "\n",
    "    result = {\n",
    "        f\"label_{len(df[class_column].unique())}class\": labels\n",
    "    }\n",
    "    return result\n"
   ]
  },
  {
   "cell_type": "code",
   "execution_count": 91,
   "id": "cb194676-bddb-4c9a-92bd-fa64b96692de",
   "metadata": {},
   "outputs": [],
   "source": [
    "def fix_geomfeat(df : pd.DataFrame, \n",
    "                 class_column : str,\n",
    "                 geomfeat_columns : tuple):\n",
    "    geomfeat = dict()\n",
    "    for index in range(df.shape[0]):\n",
    "        geomfeat.update(\n",
    "                    {str(index) : [df.iloc[index][geomfeat_columns[0]] , df.iloc[index][geomfeat_columns[1]]]}\n",
    "                    )\n",
    "    return geomfeat\n",
    "    "
   ]
  },
  {
   "cell_type": "code",
   "execution_count": 96,
   "id": "f978dd7b-6624-4e94-ad0c-36980ba40728",
   "metadata": {},
   "outputs": [
    {
     "name": "stdout",
     "output_type": "stream",
     "text": [
      "Folder created: /home/reza/Desktop/test1\n"
     ]
    }
   ],
   "source": [
    "import os\n",
    "\n",
    "# Define the folder name\n",
    "folder_name = \"/home/reza/Desktop/test1\"\n",
    "\n",
    "# Create the folder\n",
    "os.makedirs(folder_name, exist_ok=True)\n",
    "\n",
    "# Get the absolute path of the folder\n",
    "folder_path = os.path.abspath(folder_name)\n",
    "\n",
    "print(\"Folder created:\", folder_path)"
   ]
  },
  {
   "cell_type": "code",
   "execution_count": 97,
   "id": "c892ba09-1005-4777-8996-1cd793f4394f",
   "metadata": {},
   "outputs": [
    {
     "name": "stdout",
     "output_type": "stream",
     "text": [
      "Dictionary saved to data.json\n"
     ]
    }
   ],
   "source": [
    "import json\n",
    "\n",
    "# Example dictionary\n",
    "data = {\n",
    "    \"name\": \"John\",\n",
    "    \"age\": 30,\n",
    "    \"city\": \"New York\"\n",
    "}\n",
    "\n",
    "# File path to save the JSON file\n",
    "file_path = \"data.json\"\n",
    "\n",
    "# Save the dictionary to a JSON file\n",
    "with open(file_path, \"w\") as json_file:\n",
    "    json.dump(data, json_file, indent=4)\n",
    "\n",
    "print(f\"Dictionary saved to {file_path}\")\n"
   ]
  },
  {
   "cell_type": "code",
   "execution_count": 51,
   "id": "54640d7b-7694-4bc7-9493-914f5f112b8c",
   "metadata": {},
   "outputs": [
    {
     "data": {
      "text/plain": [
       "array([nan, nan])"
      ]
     },
     "execution_count": 51,
     "metadata": {},
     "output_type": "execute_result"
    }
   ],
   "source": [
    "def "
   ]
  },
  {
   "cell_type": "code",
   "execution_count": null,
   "id": "e965a695-73af-48bc-aac4-76e0b2b13a68",
   "metadata": {},
   "outputs": [],
   "source": []
  }
 ],
 "metadata": {
  "kernelspec": {
   "display_name": "Python 3 (ipykernel)",
   "language": "python",
   "name": "python3"
  },
  "language_info": {
   "codemirror_mode": {
    "name": "ipython",
    "version": 3
   },
   "file_extension": ".py",
   "mimetype": "text/x-python",
   "name": "python",
   "nbconvert_exporter": "python",
   "pygments_lexer": "ipython3",
   "version": "3.10.12"
  }
 },
 "nbformat": 4,
 "nbformat_minor": 5
}
